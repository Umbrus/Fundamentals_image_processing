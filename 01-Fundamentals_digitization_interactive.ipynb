{
 "cells": [
  {
   "cell_type": "code",
   "execution_count": 2,
   "metadata": {},
   "outputs": [],
   "source": [
    "import numpy as np\n",
    "import matplotlib.pyplot as plt\n",
    "import ipywidgets as ipw"
   ]
  },
  {
   "cell_type": "code",
   "execution_count": 3,
   "metadata": {},
   "outputs": [],
   "source": [
    "np.random.seed(0)\n",
    "\n",
    "X,Y = np.meshgrid(np.arange(10),np.arange(10))\n",
    "val = 10*np.exp(-(X-3)**2/10 - (Y-5)**2/10) + np.random.randn(10,10)\n",
    "val[val<0] = 0"
   ]
  },
  {
   "cell_type": "code",
   "execution_count": 11,
   "metadata": {},
   "outputs": [],
   "source": [
    "def plot_digitization(level, rawimage):\n",
    "    \n",
    "    sample = np.round(rawimage/rawimage.max()*level)\n",
    "\n",
    "    fig, ax = plt.subplots(figsize=(8,8))\n",
    "    plt.imshow(sample, cmap = 'gray')\n",
    "    for i in range(sample.shape[0]):\n",
    "        for j in range(sample.shape[1]):\n",
    "            plt.text(s = str(sample[i,j].astype(int)), x = j, y = i, fontdict={'fontsize':20},\n",
    "                     horizontalalignment='center', verticalalignment='center', color = 'red')\n",
    "    ax.set_xticks(np.arange(11))\n",
    "    ax.set_yticks(np.arange(11))\n",
    "    fig.set_tight_layout(True)\n",
    "    ax.set_axis_off()\n",
    "    plt.show()"
   ]
  },
  {
   "cell_type": "code",
   "execution_count": 13,
   "metadata": {},
   "outputs": [
    {
     "data": {
      "application/vnd.jupyter.widget-view+json": {
       "model_id": "8f57059d2ce24d3c9a421acf393aee7e",
       "version_major": 2,
       "version_minor": 0
      },
      "text/plain": [
       "interactive(children=(IntSlider(value=1, description='level', max=20, min=1), Output()), _dom_classes=('widget…"
      ]
     },
     "metadata": {},
     "output_type": "display_data"
    }
   ],
   "source": [
    "ipw.interact(plot_digitization, level = ipw.IntSlider(min = 1, max = 20), rawimage = ipw.fixed(val));"
   ]
  }
 ],
 "metadata": {
  "kernelspec": {
   "display_name": "Python 3",
   "language": "python",
   "name": "python3"
  },
  "language_info": {
   "codemirror_mode": {
    "name": "ipython",
    "version": 3
   },
   "file_extension": ".py",
   "mimetype": "text/x-python",
   "name": "python",
   "nbconvert_exporter": "python",
   "pygments_lexer": "ipython3",
   "version": "3.6.7"
  }
 },
 "nbformat": 4,
 "nbformat_minor": 2
}
