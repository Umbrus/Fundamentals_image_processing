{
 "cells": [
  {
   "cell_type": "markdown",
   "metadata": {},
   "source": [
    "# Contrast"
   ]
  },
  {
   "cell_type": "code",
   "execution_count": 6,
   "metadata": {},
   "outputs": [],
   "source": [
    "import numpy as np\n",
    "import ipywidgets as ipw\n",
    "from ipywidgets import Layout\n",
    "import matplotlib.pyplot as plt\n",
    "\n",
    "from bqplot import (\n",
    "    OrdinalScale, LinearScale, Bars, Lines, Axis, Figure, Label, HeatMap, ColorScale, ColorAxis, Hist\n",
    ")\n",
    "#import bqplot.pyplot as plt"
   ]
  },
  {
   "cell_type": "code",
   "execution_count": 2,
   "metadata": {},
   "outputs": [],
   "source": [
    "np.random.seed(0)\n",
    "imsize = 20\n",
    "X,Y = np.meshgrid(np.arange(20),np.arange(20))\n",
    "positions = [[3,5],[10,8],[15,17],[13,4]]\n",
    "val = np.zeros(X.shape)\n",
    "for p in positions:\n",
    "    val = val + 150 *np.exp(-(X-p[0])**2/5 - (Y-p[1])**2/5)\n",
    "\n",
    "#val = 150*(np.exp(-(X-3)**2/5 - (Y-5)**2/5)+np.exp(-(X-10)**2/5 - (Y-8)**2/5))\n",
    "\n",
    "val[val<50] = 0\n",
    "val = val + 5*np.random.randn(20,20)\n",
    "val[val<0] = 0\n",
    "\n",
    "sample = np.round(val)"
   ]
  },
  {
   "cell_type": "code",
   "execution_count": 3,
   "metadata": {},
   "outputs": [],
   "source": [
    "textcol = []\n",
    "textpos = []\n",
    "for i in range(sample.shape[0]):\n",
    "    for j in range(sample.shape[1]):\n",
    "        textcol.append([str(sample[i,j].astype(int))])\n",
    "        textpos.append([j, i])\n",
    "textpos = np.array(textpos)"
   ]
  },
  {
   "cell_type": "code",
   "execution_count": 4,
   "metadata": {},
   "outputs": [
    {
     "data": {
      "application/vnd.jupyter.widget-view+json": {
       "model_id": "8da6e22e17fb43a1a4b2d860698fddc5",
       "version_major": 2,
       "version_minor": 0
      },
      "text/plain": [
       "VBox(children=(IntRangeSlider(value=(0, 255), description='Range to consider', max=255, style=SliderStyle(desc…"
      ]
     },
     "metadata": {},
     "output_type": "display_data"
    }
   ],
   "source": [
    "sliders = ipw.IntRangeSlider(min =0, max = 255,value = [0,255], description = 'Range to consider',\n",
    "                             style={'description_width': 'initial'})\n",
    "\n",
    "x_sc = LinearScale()\n",
    "y_sc = LinearScale()\n",
    "aspect_ratio = 1\n",
    "col_sc = ColorScale(scheme='Greys', reverse=True, min = sliders.value[0],max = sliders.value[1])\n",
    "ax_x = Axis(scale=x_sc)\n",
    "ax_y = Axis(scale=y_sc, orientation='vertical')\n",
    "ax_c = ColorAxis(scale=col_sc)\n",
    "\n",
    "test_label = Label(x=1.*textpos[:,0], y=1.*textpos[:,1], text=textcol, scales = {'x':x_sc, 'y': y_sc}, default_size=10,\n",
    "                  font_weight='bolder', colors=['red'], align = 'middle')\n",
    "\n",
    "scales = {'color': col_sc}\n",
    "ascent = HeatMap(color=sample, scales={'color':col_sc})\n",
    "img = Figure(title='', marks=[ascent,test_label],\n",
    "             layout=Layout(width='650px', height='650px'),axes=[ax_x, ax_y, ax_c],\n",
    "             min_aspect_ratio=aspect_ratio, max_aspect_ratio=aspect_ratio, padding_y=0)\n",
    "\n",
    "\n",
    "x_sch = LinearScale()\n",
    "y_sch = LinearScale()\n",
    "\n",
    "hist = Hist(sample=np.ravel(sample), bins = 15,scales={'sample': x_sch, 'count': y_sch})\n",
    "ax_xh = Axis(scale=x_sch, tick_format='0.2f')\n",
    "ax_yh = Axis(scale=y_sch, orientation='vertical')\n",
    "\n",
    "histfig = Figure(marks=[hist], axes=[ax_xh, ax_yh], padding_y=0)\n",
    "\n",
    "\n",
    "\n",
    "def update_chart(change):\n",
    "    col_sc.min = sliders.value[0]\n",
    "    col_sc.max = sliders.value[1]\n",
    "    hist.sample = list(np.ravel(sample[(sample>sliders.value[0])&(sample<sliders.value[1])]))#+\\\n",
    "    #list(sliders.value[0]*np.ones((len(sample[sample<sliders.value[0]]))))\n",
    "sliders.observe(update_chart, 'value')\n",
    "update_chart(None)\n",
    "ipw.VBox([sliders, ipw.HBox([img,histfig])])\n"
   ]
  },
  {
   "cell_type": "code",
   "execution_count": 68,
   "metadata": {},
   "outputs": [
    {
     "data": {
      "text/plain": [
       "\"fig = plt.figure(figsize=(15, 7.5))\\nax1 = plt.subplot(1,2,1)\\nax1.imshow(sample, cmap = 'gray', vmin = 0, vmax = 255)\\nfor i in range(sample.shape[0]):\\n    for j in range(sample.shape[1]):\\n        plt.text(s = str(int(sample[i,j])), x = j, y = i, horizontalalignment='center', verticalalignment='center',\\n                color = 'red', size = 9)\\nax1.set_xticks(np.arange(20))\\nax1.set_yticks(np.arange(20))\\nfig.set_tight_layout(True)\\n\\nax2 = plt.subplot(1,2,2)\\nax2.hist(np.ravel(sample[(sample>0)&(sample<255)]), bins = np.arange(0,255,20))\\nax2.set_xlabel('Pixel value', fontdict = {'fontsize':20})\\nax2.set_ylabel('Counts', fontdict = {'fontsize':20})\\nplt.show()\\nfig.savefig('course_images/low_contrast.png')\""
      ]
     },
     "execution_count": 68,
     "metadata": {},
     "output_type": "execute_result"
    }
   ],
   "source": [
    "'''fig = plt.figure(figsize=(15, 7.5))\n",
    "ax1 = plt.subplot(1,2,1)\n",
    "ax1.imshow(sample, cmap = 'gray', vmin = 0, vmax = 255)\n",
    "for i in range(sample.shape[0]):\n",
    "    for j in range(sample.shape[1]):\n",
    "        plt.text(s = str(int(sample[i,j])), x = j, y = i, horizontalalignment='center', verticalalignment='center',\n",
    "                color = 'red', size = 9)\n",
    "ax1.set_xticks(np.arange(20))\n",
    "ax1.set_yticks(np.arange(20))\n",
    "fig.set_tight_layout(True)\n",
    "\n",
    "ax2 = plt.subplot(1,2,2)\n",
    "ax2.hist(np.ravel(sample[(sample>0)&(sample<255)]), bins = np.arange(0,255,20))\n",
    "ax2.set_xlabel('Pixel value', fontdict = {'fontsize':20})\n",
    "ax2.set_ylabel('Counts', fontdict = {'fontsize':20})\n",
    "plt.show()\n",
    "fig.savefig('course_images/low_contrast.png')'''"
   ]
  },
  {
   "cell_type": "code",
   "execution_count": 69,
   "metadata": {},
   "outputs": [
    {
     "data": {
      "text/plain": [
       "\"fig = plt.figure(figsize=(15, 7.5))\\nax1 = plt.subplot(1,2,1)\\nax1.imshow(sample, cmap = 'gray', vmin = 30, vmax = 170)\\nfor i in range(sample.shape[0]):\\n    for j in range(sample.shape[1]):\\n        plt.text(s = str(int(sample[i,j])), x = j, y = i, horizontalalignment='center', verticalalignment='center',\\n                color = 'red', size = 9)\\nax1.set_xticks(np.arange(20))\\nax1.set_yticks(np.arange(20))\\nfig.set_tight_layout(True)\\n\\nax2 = plt.subplot(1,2,2)\\nax2.hist(np.ravel(sample[(sample>30)&(sample<170)]), bins = np.arange(0,255,20))\\nax2.set_xlabel('Pixel value', fontdict = {'fontsize':20})\\nax2.set_ylabel('Counts', fontdict = {'fontsize':20})\\nplt.show()\\nfig.savefig('course_images/high_contrast.png')\""
      ]
     },
     "execution_count": 69,
     "metadata": {},
     "output_type": "execute_result"
    }
   ],
   "source": [
    "'''fig = plt.figure(figsize=(15, 7.5))\n",
    "ax1 = plt.subplot(1,2,1)\n",
    "ax1.imshow(sample, cmap = 'gray', vmin = 30, vmax = 170)\n",
    "for i in range(sample.shape[0]):\n",
    "    for j in range(sample.shape[1]):\n",
    "        plt.text(s = str(int(sample[i,j])), x = j, y = i, horizontalalignment='center', verticalalignment='center',\n",
    "                color = 'red', size = 9)\n",
    "ax1.set_xticks(np.arange(20))\n",
    "ax1.set_yticks(np.arange(20))\n",
    "fig.set_tight_layout(True)\n",
    "\n",
    "ax2 = plt.subplot(1,2,2)\n",
    "ax2.hist(np.ravel(sample[(sample>30)&(sample<170)]), bins = np.arange(0,255,20))\n",
    "ax2.set_xlabel('Pixel value', fontdict = {'fontsize':20})\n",
    "ax2.set_ylabel('Counts', fontdict = {'fontsize':20})\n",
    "plt.show()\n",
    "fig.savefig('course_images/high_contrast.png')'''"
   ]
  },
  {
   "cell_type": "code",
   "execution_count": null,
   "metadata": {},
   "outputs": [],
   "source": []
  }
 ],
 "metadata": {
  "kernelspec": {
   "display_name": "Python 3",
   "language": "python",
   "name": "python3"
  },
  "language_info": {
   "codemirror_mode": {
    "name": "ipython",
    "version": 3
   },
   "file_extension": ".py",
   "mimetype": "text/x-python",
   "name": "python",
   "nbconvert_exporter": "python",
   "pygments_lexer": "ipython3",
   "version": "3.6.7"
  }
 },
 "nbformat": 4,
 "nbformat_minor": 2
}
