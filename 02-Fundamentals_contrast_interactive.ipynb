{
 "cells": [
  {
   "cell_type": "code",
   "execution_count": 138,
   "metadata": {},
   "outputs": [],
   "source": [
    "import numpy as np\n",
    "import ipywidgets as ipw\n",
    "from ipywidgets import Layout\n",
    "\n",
    "from bqplot import (\n",
    "    OrdinalScale, LinearScale, Bars, Lines, Axis, Figure, Label, HeatMap, ColorScale, ColorAxis\n",
    ")\n",
    "import bqplot.pyplot as plt"
   ]
  },
  {
   "cell_type": "code",
   "execution_count": 139,
   "metadata": {},
   "outputs": [],
   "source": [
    "np.random.seed(0)\n",
    "\n",
    "X,Y = np.meshgrid(np.arange(10),np.arange(10))\n",
    "val = 100*np.exp(-(X-3)**2/10 - (Y-5)**2/10) + np.random.randn(10,10)\n",
    "val[val<0] = 0\n",
    "\n",
    "sample = np.round(val)"
   ]
  },
  {
   "cell_type": "code",
   "execution_count": 140,
   "metadata": {},
   "outputs": [],
   "source": [
    "textcol = []\n",
    "textpos = []\n",
    "for i in range(sample.shape[0]):\n",
    "    for j in range(sample.shape[1]):\n",
    "        textcol.append([str(sample[i,j].astype(int))])\n",
    "        textpos.append([j, i])\n",
    "textpos = np.array(textpos)"
   ]
  },
  {
   "cell_type": "code",
   "execution_count": 137,
   "metadata": {
    "scrolled": false
   },
   "outputs": [
    {
     "data": {
      "application/vnd.jupyter.widget-view+json": {
       "model_id": "382fa8bd620c43eebf0ba08d6fdb3aa0",
       "version_major": 2,
       "version_minor": 0
      },
      "text/plain": [
       "VBox(children=(IntRangeSlider(value=(37, 112), description='Range to consider', max=150), Figure(axes=[Axis(sc…"
      ]
     },
     "metadata": {},
     "output_type": "display_data"
    }
   ],
   "source": [
    "sliders = ipw.IntRangeSlider(min =0, max = 150, description = 'Range to consider')\n",
    "\n",
    "col_sc = ColorScale(scheme='Greys', reverse=True, min = sliders.value[0],max = sliders.value[1])\n",
    "ax_x = Axis(scale=x_sc)\n",
    "ax_y = Axis(scale=y_sc, orientation='vertical')\n",
    "ax_c = ColorAxis(scale=col_sc)\n",
    "\n",
    "test_label = Label(x=1.*textpos[:,0], y=1.*textpos[:,1], text=textcol, scales = {'x':x_sc, 'y': y_sc}, default_size=10,\n",
    "                  font_weight='bolder', colors=['orange'])\n",
    "\n",
    "scales = {'color': col_sc}\n",
    "ascent = HeatMap(color=sample, scales={'color':col_sc})\n",
    "img = Figure(title='', marks=[ascent,test_label],\n",
    "             layout=Layout(width='650px', height='650px'),axes=[ax_x, ax_y, ax_c],\n",
    "             min_aspect_ratio=aspect_ratio, max_aspect_ratio=aspect_ratio, padding_y=0)\n",
    "\n",
    "def update_chart(change):\n",
    "    col_sc.min = sliders.value[0]\n",
    "    col_sc.max = sliders.value[1]\n",
    "sliders.observe(update_chart, 'value')\n",
    "update_chart(None)\n",
    "ipw.VBox([sliders, img])"
   ]
  },
  {
   "cell_type": "code",
   "execution_count": null,
   "metadata": {},
   "outputs": [],
   "source": []
  }
 ],
 "metadata": {
  "kernelspec": {
   "display_name": "Python 3",
   "language": "python",
   "name": "python3"
  },
  "language_info": {
   "codemirror_mode": {
    "name": "ipython",
    "version": 3
   },
   "file_extension": ".py",
   "mimetype": "text/x-python",
   "name": "python",
   "nbconvert_exporter": "python",
   "pygments_lexer": "ipython3",
   "version": "3.6.7"
  }
 },
 "nbformat": 4,
 "nbformat_minor": 2
}
