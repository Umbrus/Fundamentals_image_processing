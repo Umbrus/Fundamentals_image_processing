{
 "cells": [
  {
   "cell_type": "markdown",
   "metadata": {},
   "source": [
    "# 3. Browsing through an image"
   ]
  },
  {
   "cell_type": "code",
   "execution_count": 9,
   "metadata": {},
   "outputs": [],
   "source": [
    "import os\n",
    "import numpy as np\n",
    "import skimage\n",
    "import matplotlib.pyplot as plt\n",
    "import pandas as pd\n",
    "import urllib\n",
    "import ipyvolume as ipv\n",
    "import ipywidgets as ipw\n",
    "if not os.path.isfile('Samples/fibroblast.tif'):\n",
    "    if not os.path.isdir('Samples'):\n",
    "        os.mkdir('Samples')\n",
    "    url = 'https://cildata.crbs.ucsd.edu/media/images/10494/10494.tif'\n",
    "    urllib.request.urlretrieve(url, 'Samples/fibroblast.tif');\n",
    "\n",
    "image = skimage.io.imread('Samples/fibroblast.tif')"
   ]
  },
  {
   "cell_type": "code",
   "execution_count": 14,
   "metadata": {},
   "outputs": [],
   "source": [
    "def browse_basic(color,plane, image):\n",
    "    if color ==0:\n",
    "        cmap = 'Reds'\n",
    "    elif color ==1:\n",
    "        cmap = 'Greens'\n",
    "    else:\n",
    "        cmap = 'gray'\n",
    "    fig, ax = plt.subplots(figsize=(10,10))\n",
    "    plt.imshow(image[color, plane,:,:], cmap = cmap)\n",
    "    plt.show()"
   ]
  },
  {
   "cell_type": "code",
   "execution_count": 15,
   "metadata": {},
   "outputs": [
    {
     "data": {
      "application/vnd.jupyter.widget-view+json": {
       "model_id": "f4ef5e0591684b39b749e93e1017caa2",
       "version_major": 2,
       "version_minor": 0
      },
      "text/plain": [
       "interactive(children=(IntSlider(value=0, description='color', max=2), IntSlider(value=0, description='plane', …"
      ]
     },
     "metadata": {},
     "output_type": "display_data"
    }
   ],
   "source": [
    "ipw.interactive(browse_basic, color = ipw.IntSlider(min =0, max = 2), \n",
    "                plane = ipw.IntSlider(min =0, max = 6), image = ipw.fixed(image))"
   ]
  },
  {
   "cell_type": "code",
   "execution_count": null,
   "metadata": {},
   "outputs": [],
   "source": []
  }
 ],
 "metadata": {
  "kernelspec": {
   "display_name": "Python 3",
   "language": "python",
   "name": "python3"
  },
  "language_info": {
   "codemirror_mode": {
    "name": "ipython",
    "version": 3
   },
   "file_extension": ".py",
   "mimetype": "text/x-python",
   "name": "python",
   "nbconvert_exporter": "python",
   "pygments_lexer": "ipython3",
   "version": "3.6.7"
  }
 },
 "nbformat": 4,
 "nbformat_minor": 2
}
