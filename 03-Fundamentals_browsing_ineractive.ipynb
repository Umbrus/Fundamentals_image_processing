{
 "cells": [
  {
   "cell_type": "markdown",
   "metadata": {},
   "source": [
    "# 3. Browsing through an image"
   ]
  },
  {
   "cell_type": "code",
   "execution_count": 1,
   "metadata": {},
   "outputs": [],
   "source": [
    "import os\n",
    "import numpy as np\n",
    "import skimage\n",
    "import matplotlib.pyplot as plt\n",
    "import pandas as pd\n",
    "import urllib\n",
    "import ipyvolume as ipv\n",
    "import ipywidgets as ipw\n",
    "if not os.path.isfile('Samples/fibroblast.tif'):\n",
    "    if not os.path.isdir('Samples'):\n",
    "        os.mkdir('Samples')\n",
    "    url = 'https://cildata.crbs.ucsd.edu/media/images/10494/10494.tif'\n",
    "    urllib.request.urlretrieve(url, 'Samples/fibroblast.tif');\n",
    "\n",
    "image = skimage.io.imread('Samples/fibroblast.tif')"
   ]
  },
  {
   "cell_type": "code",
   "execution_count": 2,
   "metadata": {},
   "outputs": [],
   "source": [
    "def browse_basic(color,plane, image):\n",
    "    if color ==0:\n",
    "        cmap = 'Reds'\n",
    "    elif color ==1:\n",
    "        cmap = 'Greens'\n",
    "    else:\n",
    "        cmap = 'gray'\n",
    "    fig, ax = plt.subplots(figsize=(10,10))\n",
    "    plt.imshow(image[color, plane,:,:], cmap = cmap)\n",
    "    plt.show()"
   ]
  },
  {
   "cell_type": "code",
   "execution_count": 3,
   "metadata": {},
   "outputs": [
    {
     "data": {
      "application/vnd.jupyter.widget-view+json": {
       "model_id": "11c1a22a368f49fa9f7c509bf4573744",
       "version_major": 2,
       "version_minor": 0
      },
      "text/plain": [
       "interactive(children=(IntSlider(value=0, description='color', max=2), IntSlider(value=0, description='plane', …"
      ]
     },
     "metadata": {},
     "output_type": "display_data"
    }
   ],
   "source": [
    "ipw.interactive(browse_basic, color = ipw.IntSlider(min =0, max = 2), \n",
    "                plane = ipw.IntSlider(min =0, max = 6), image = ipw.fixed(image))"
   ]
  },
  {
   "cell_type": "code",
   "execution_count": 4,
   "metadata": {},
   "outputs": [],
   "source": [
    "image = image.astype(int)"
   ]
  },
  {
   "cell_type": "code",
   "execution_count": 9,
   "metadata": {},
   "outputs": [
    {
     "data": {
      "application/vnd.jupyter.widget-view+json": {
       "model_id": "501f444e4ca24b7ea9eb40b612521b74",
       "version_major": 2,
       "version_minor": 0
      },
      "text/plain": [
       "VBox(children=(VBox(children=(HBox(children=(Label(value='levels:'), FloatSlider(value=0.1, max=1.0, step=0.00…"
      ]
     },
     "metadata": {},
     "output_type": "display_data"
    }
   ],
   "source": [
    "ipv.volshow(image[1,:,:,:],)\n",
    "ipv.show()"
   ]
  },
  {
   "cell_type": "code",
   "execution_count": null,
   "metadata": {},
   "outputs": [],
   "source": []
  }
 ],
 "metadata": {
  "kernelspec": {
   "display_name": "Python 3",
   "language": "python",
   "name": "python3"
  },
  "language_info": {
   "codemirror_mode": {
    "name": "ipython",
    "version": 3
   },
   "file_extension": ".py",
   "mimetype": "text/x-python",
   "name": "python",
   "nbconvert_exporter": "python",
   "pygments_lexer": "ipython3",
   "version": "3.7.3"
  }
 },
 "nbformat": 4,
 "nbformat_minor": 4
}
