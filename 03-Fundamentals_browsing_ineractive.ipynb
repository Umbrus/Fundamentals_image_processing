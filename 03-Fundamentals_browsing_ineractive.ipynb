{
 "cells": [
  {
   "cell_type": "markdown",
   "metadata": {},
   "source": [
    "# Browsing through an image"
   ]
  },
  {
   "cell_type": "code",
   "execution_count": 1,
   "metadata": {},
   "outputs": [],
   "source": [
    "import os\n",
    "import requests\n",
    "import numpy as np\n",
    "import skimage\n",
    "import matplotlib.pyplot as plt\n",
    "import pandas as pd\n",
    "import urllib\n",
    "import ipyvolume as ipv\n",
    "import ipyvolume.pylab as p3\n",
    "import ipywidgets as ipw\n",
    "'''if not os.path.isfile('Samples/fibroblast.tif'):\n",
    "    if not os.path.isdir('Samples'):\n",
    "        os.mkdir('Samples')\n",
    "    url = 'https://cildata.crbs.ucsd.edu/media/images/10494/10494.tif'\n",
    "    urllib.request.urlretrieve(url, 'Samples/fibroblast.tif');'''\n",
    "    \n",
    "if not os.path.isfile('Samples/heart.lsm'):\n",
    "    if not os.path.isdir('Samples'):\n",
    "        os.mkdir('Samples')\n",
    "    myfile = requests.get('https://data.mendeley.com/datasets/tntrkg27st/1/files/272dd72b-5f0f-45bd-80a1-f929c5f3a062/GATA4%20Ki67%201.lsm', allow_redirects=True)\n",
    "    open('Samples/'+'heart.lsm', 'wb').write(myfile.content)\n",
    "\n",
    "    \n",
    "\n",
    "#image = skimage.io.imread('Samples/fibroblast.tif')\n",
    "image3D = skimage.io.imread('Samples/heart.lsm', plugin='tifffile')"
   ]
  },
  {
   "cell_type": "code",
   "execution_count": 2,
   "metadata": {},
   "outputs": [],
   "source": [
    "def browse_basic(color,plane, image):\n",
    "    if color ==0:\n",
    "        cmap = 'Greens'\n",
    "    elif color ==1:\n",
    "        cmap = 'Reds'\n",
    "    elif color ==2:\n",
    "        cmap = 'Blues'\n",
    "    else:\n",
    "        cmap = 'gray'\n",
    "    fig, ax = plt.subplots(figsize=(10,10))\n",
    "    plt.imshow(image[0,plane,:,:,color], cmap = cmap)\n",
    "    plt.show()"
   ]
  },
  {
   "cell_type": "code",
   "execution_count": 3,
   "metadata": {
    "scrolled": false
   },
   "outputs": [
    {
     "data": {
      "application/vnd.jupyter.widget-view+json": {
       "model_id": "5a0285176bd7450594307853afd0fc78",
       "version_major": 2,
       "version_minor": 0
      },
      "text/plain": [
       "interactive(children=(IntSlider(value=0, description='color', max=3), IntSlider(value=0, description='plane', …"
      ]
     },
     "metadata": {},
     "output_type": "display_data"
    }
   ],
   "source": [
    "ipw.interactive(browse_basic, color = ipw.IntSlider(min =0, max = 3), \n",
    "                plane = ipw.IntSlider(min =0, max = 27), image = ipw.fixed(image3D))"
   ]
  },
  {
   "cell_type": "code",
   "execution_count": 4,
   "metadata": {},
   "outputs": [],
   "source": [
    "image3D = image3D.astype('float')+0.01*np.random.rand(*image3D.shape)"
   ]
  },
  {
   "cell_type": "code",
   "execution_count": 5,
   "metadata": {},
   "outputs": [
    {
     "name": "stderr",
     "output_type": "stream",
     "text": [
      "/Users/gw18g940/miniconda3/envs/fund_image/lib/python3.7/site-packages/ipyvolume/widgets.py:179: FutureWarning: Using a non-tuple sequence for multidimensional indexing is deprecated; use `arr[tuple(seq)]` instead of `arr[seq]`. In the future this will be interpreted as an array index, `arr[np.array(seq)]`, which will result either in an error or a different result.\n",
      "  data_view = self.data_original[view]\n",
      "/Users/gw18g940/miniconda3/envs/fund_image/lib/python3.7/site-packages/ipyvolume/utils.py:204: FutureWarning: Using a non-tuple sequence for multidimensional indexing is deprecated; use `arr[tuple(seq)]` instead of `arr[seq]`. In the future this will be interpreted as an array index, `arr[np.array(seq)]`, which will result either in an error or a different result.\n",
      "  data = (data[slices1] + data[slices2])/2\n"
     ]
    },
    {
     "data": {
      "application/vnd.jupyter.widget-view+json": {
       "model_id": "7b6aee2f5e6f41d0a0e2659610b8d830",
       "version_major": 2,
       "version_minor": 0
      },
      "text/plain": [
       "VBox(children=(VBox(children=(HBox(children=(Label(value='levels:'), FloatSlider(value=1.0, max=1.0, step=0.00…"
      ]
     },
     "metadata": {},
     "output_type": "display_data"
    }
   ],
   "source": [
    "p3.figure()\n",
    "p3.volshow(image3D[0,:,:,:,0], extent=[[0,1000],[0,1000],[0,200]],level=[1,0.27,1],\n",
    "          opacity=[0,1,0])\n",
    "p3.xyzlim(0,1000)\n",
    "p3.show()"
   ]
  },
  {
   "cell_type": "code",
   "execution_count": null,
   "metadata": {},
   "outputs": [],
   "source": []
  }
 ],
 "metadata": {
  "kernelspec": {
   "display_name": "Python 3",
   "language": "python",
   "name": "python3"
  },
  "language_info": {
   "codemirror_mode": {
    "name": "ipython",
    "version": 3
   },
   "file_extension": ".py",
   "mimetype": "text/x-python",
   "name": "python",
   "nbconvert_exporter": "python",
   "pygments_lexer": "ipython3",
   "version": "3.7.3"
  }
 },
 "nbformat": 4,
 "nbformat_minor": 4
}
