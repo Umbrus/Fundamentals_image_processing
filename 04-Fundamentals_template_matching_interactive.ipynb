{
 "cells": [
  {
   "cell_type": "markdown",
   "metadata": {},
   "source": [
    "# Template matching"
   ]
  },
  {
   "cell_type": "code",
   "execution_count": 115,
   "metadata": {},
   "outputs": [],
   "source": [
    "import numpy as np\n",
    "import matplotlib.pyplot as plt\n",
    "import ipywidgets as ipw\n",
    "from IPython.display import clear_output\n",
    "import skimage.filters\n",
    "import skimage.morphology\n",
    "import skimage.feature"
   ]
  },
  {
   "cell_type": "code",
   "execution_count": 118,
   "metadata": {},
   "outputs": [],
   "source": [
    "def template(noise, image):\n",
    "\n",
    "    image = image +noise*np.random.randn(val.shape[0],val.shape[1])\n",
    "\n",
    "    template = np.zeros((15,15))\n",
    "    X,Y = np.meshgrid(np.arange(15),np.arange(15))\n",
    "    template[((X-7)**2+(Y-7)**2)**0.5<5]=1\n",
    "\n",
    "    filtered = skimage.feature.match_template(image, template,pad_input=True)\n",
    "    peaks = skimage.feature.peak_local_max(filtered,threshold_abs=0.5)\n",
    "    \n",
    "    fig = plt.figure(figsize=(15,10))\n",
    "    ax1 = plt.subplot(1,3,1)\n",
    "    plt.imshow(val, cmap = 'gray')\n",
    "    plt.plot(peaks[:,1],peaks[:,0],'ro')\n",
    "    ax2 = plt.subplot(1,3,2)\n",
    "    plt.imshow(image, cmap = 'gray')\n",
    "    plt.plot(peaks[:,1],peaks[:,0],'ro')\n",
    "    a3 = plt.subplot(1,3,3)\n",
    "    plt.imshow(filtered, cmap = 'gray')\n",
    "    fig.set_tight_layout(True)\n",
    "    plt.show()"
   ]
  },
  {
   "cell_type": "code",
   "execution_count": 119,
   "metadata": {},
   "outputs": [],
   "source": [
    "np.random.seed(0)\n",
    "imsize = 20\n",
    "X,Y = np.meshgrid(np.arange(50),np.arange(50))\n",
    "positions = [[10,16],[28,13],[35,40]]\n",
    "val = np.zeros(X.shape)\n",
    "for p in positions:\n",
    "    val[((X-p[0])**2+(Y-p[1])**2)**0.5<5]=1"
   ]
  },
  {
   "cell_type": "code",
   "execution_count": 121,
   "metadata": {},
   "outputs": [
    {
     "data": {
      "application/vnd.jupyter.widget-view+json": {
       "model_id": "c1ebaf48346f440b9d08fe9123eee983",
       "version_major": 2,
       "version_minor": 0
      },
      "text/plain": [
       "interactive(children=(FloatSlider(value=0.0, description='noise', max=1.0), Output()), _dom_classes=('widget-i…"
      ]
     },
     "metadata": {},
     "output_type": "display_data"
    }
   ],
   "source": [
    "ipw.interactive(template, noise = ipw.FloatSlider(value = 0,min = 0,max = 1,step = 0.1),\n",
    "                image = ipw.fixed(val))"
   ]
  },
  {
   "cell_type": "code",
   "execution_count": null,
   "metadata": {},
   "outputs": [],
   "source": []
  }
 ],
 "metadata": {
  "kernelspec": {
   "display_name": "Python 3",
   "language": "python",
   "name": "python3"
  },
  "language_info": {
   "codemirror_mode": {
    "name": "ipython",
    "version": 3
   },
   "file_extension": ".py",
   "mimetype": "text/x-python",
   "name": "python",
   "nbconvert_exporter": "python",
   "pygments_lexer": "ipython3",
   "version": "3.7.3"
  }
 },
 "nbformat": 4,
 "nbformat_minor": 4
}
