{
 "cells": [
  {
   "cell_type": "markdown",
   "metadata": {},
   "source": [
    "# Filtering"
   ]
  },
  {
   "cell_type": "code",
   "execution_count": 147,
   "metadata": {},
   "outputs": [],
   "source": [
    "import numpy as np\n",
    "import matplotlib.pyplot as plt\n",
    "import ipywidgets as ipw\n",
    "from IPython.display import clear_output\n",
    "import skimage.filters\n",
    "import skimage.morphology"
   ]
  },
  {
   "cell_type": "code",
   "execution_count": 229,
   "metadata": {},
   "outputs": [],
   "source": [
    "'''np.random.seed(0)\n",
    "\n",
    "X,Y = np.meshgrid(np.arange(20),np.arange(20))\n",
    "val = 10*np.exp(-(X-3)**2/10 - (Y-5)**2/10) + np.random.randn(10,10)\n",
    "val[val<0] = 0\n",
    "sample = np.round(val/val.max()*20).astype(int)\n",
    "'''\n",
    "np.random.seed(0)\n",
    "imsize = 20\n",
    "X,Y = np.meshgrid(np.arange(20),np.arange(20))\n",
    "positions = [[3,5],[10,8],[15,17],[13,4]]\n",
    "val = np.zeros(X.shape)\n",
    "for p in positions:\n",
    "    val = val + 50 *np.exp(-(X-p[0])**2/5 - (Y-p[1])**2/5)\n",
    "sample = np.round(val)#.astype(np.uint8)"
   ]
  },
  {
   "cell_type": "code",
   "execution_count": 230,
   "metadata": {},
   "outputs": [],
   "source": [
    "for s in range(4):\n",
    "    sample[np.random.randint(0, sample.shape[0],size = 1),\n",
    "          np.random.randint(0, sample.shape[0],size = 1)]= 255"
   ]
  },
  {
   "cell_type": "code",
   "execution_count": 231,
   "metadata": {},
   "outputs": [],
   "source": [
    "def filtering(filter_size,noise, filter_type, image):\n",
    "    \n",
    "    image = image + noise*np.random.randn(image.shape[0],image.shape[1])\n",
    "    image[image<0] = 0\n",
    "    image[image>255] = 255\n",
    "    image = np.round(image).astype(np.uint8)\n",
    "    \n",
    "    newim = np.zeros(sample.shape)\n",
    "    \n",
    "    if filter_type == 'mean':\n",
    "        newim = skimage.filters.rank.mean(image, skimage.morphology.disk(filter_size))\n",
    "    elif filter_type == 'median':\n",
    "        newim = skimage.filters.median(image, skimage.morphology.disk(filter_size))\n",
    "    \n",
    "    \n",
    "    fig = plt.figure(figsize=(16,8))\n",
    "    ax1 = plt.subplot(1,2,1)\n",
    "    ax1.imshow(image, cmap = 'gray', vmin = 0, vmax = 50)\n",
    "    \n",
    "    #ax1.set_xlim(-0.52,9.5)\n",
    "    #ax1.set_ylim(-0.52,9.5)\n",
    "    #ax1.set_xticks(np.arange(10))\n",
    "    #ax1.set_yticks(np.arange(10))\n",
    "\n",
    "    ax2 = plt.subplot(1,2,2)\n",
    "    plt.imshow(newim, cmap = 'gray', vmin = 0, vmax = 50)\n",
    "    #ax2.set_xlim(-0.50,9.5)\n",
    "    #ax2.set_ylim(-0.50,9.5)\n",
    "    #ax2.set_xticks(np.arange(10))\n",
    "    #ax2.set_yticks(np.arange(10))\n",
    "    fig.set_tight_layout(True)\n",
    "    #ax.set_axis_off()\n",
    "    plt.show()\n",
    "    #fig.savefig('filtering/filtering_'+str(full_range)+'.png')\n",
    "    #clear_output()"
   ]
  },
  {
   "cell_type": "code",
   "execution_count": 232,
   "metadata": {},
   "outputs": [
    {
     "data": {
      "application/vnd.jupyter.widget-view+json": {
       "model_id": "181a3d01bde14876bdf19c4cb96f70da",
       "version_major": 2,
       "version_minor": 0
      },
      "text/plain": [
       "interactive(children=(IntSlider(value=1, description='filter_size', max=5, min=1), IntSlider(value=1, descript…"
      ]
     },
     "metadata": {},
     "output_type": "display_data"
    }
   ],
   "source": [
    "ipw.interactive(filtering, filter_size = ipw.IntSlider(min=1, max = 5),\n",
    "                noise = ipw.IntSlider(min=1, max = 10),\n",
    "               filter_type = ipw.Select(options = ['mean','median'], value = 'mean'),image = ipw.fixed(sample))"
   ]
  },
  {
   "cell_type": "code",
   "execution_count": null,
   "metadata": {},
   "outputs": [],
   "source": []
  }
 ],
 "metadata": {
  "kernelspec": {
   "display_name": "Python 3",
   "language": "python",
   "name": "python3"
  },
  "language_info": {
   "codemirror_mode": {
    "name": "ipython",
    "version": 3
   },
   "file_extension": ".py",
   "mimetype": "text/x-python",
   "name": "python",
   "nbconvert_exporter": "python",
   "pygments_lexer": "ipython3",
   "version": "3.7.3"
  }
 },
 "nbformat": 4,
 "nbformat_minor": 4
}
