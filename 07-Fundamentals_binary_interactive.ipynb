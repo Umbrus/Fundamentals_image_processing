{
 "cells": [
  {
   "cell_type": "markdown",
   "metadata": {},
   "source": [
    "# Binary operations"
   ]
  },
  {
   "cell_type": "code",
   "execution_count": 1,
   "metadata": {},
   "outputs": [],
   "source": [
    "import os\n",
    "import numpy as np\n",
    "import skimage\n",
    "#import matplotlib\n",
    "#matplotlib.use('Agg')\n",
    "import matplotlib.pyplot as plt\n",
    "import pandas as pd\n",
    "import urllib\n",
    "#import ipyvolume as ipv\n",
    "import ipywidgets as ipw\n",
    "from IPython.display import clear_output\n",
    "\n",
    "if not os.path.isfile('Samples/confocal2.tif'):\n",
    "    if not os.path.isdir('Samples'):\n",
    "        os.mkdir('Samples')\n",
    "    #url = 'https://cildata.crbs.ucsd.edu/media/images/41678/41678.tif'\n",
    "    url = 'https://cildata.crbs.ucsd.edu/media/images/41694/41694.tif'\n",
    "    urllib.request.urlretrieve(url, 'Samples/confocal2.tif');\n",
    "\n",
    "image = skimage.io.imread('Samples/confocal2.tif')"
   ]
  },
  {
   "cell_type": "code",
   "execution_count": 2,
   "metadata": {},
   "outputs": [],
   "source": [
    "#image = image[:,:,2]>3\n",
    "subimage = (image[:,:,2]>3)[350:380,550:580]"
   ]
  },
  {
   "cell_type": "code",
   "execution_count": 9,
   "metadata": {},
   "outputs": [],
   "source": [
    "truc = np.random.randn(10)"
   ]
  },
  {
   "cell_type": "code",
   "execution_count": 12,
   "metadata": {},
   "outputs": [],
   "source": [
    "def def_erode(xpos,binary_type,filtersize, threshold, subimage):\n",
    "    #filtersize = 3\n",
    "    subimage = (image[:,:,2]>threshold)[360:390,560:590]\n",
    "    subimage_modif = subimage.copy()\n",
    "    X,Y = np.meshgrid(np.arange(subimage.shape[0]-filtersize+1),np.arange(subimage.shape[1]-filtersize+1))\n",
    "    indices = np.stack((np.ravel(X),np.ravel(Y)),axis = 0).T\n",
    "    #for i in range(0,xpos):\n",
    "    for j in range(0,xpos):\n",
    "        subimage2 = subimage[indices[j,0]:indices[j,0]+filtersize,\n",
    "                             indices[j,1]:indices[j,1]+filtersize]\n",
    "        filtered = np.zeros(subimage.shape)\n",
    "        filtered[indices[j,0]:indices[j,0]+filtersize,indices[j,1]:indices[j,1]+filtersize] = 1\n",
    "        filtered[filtered ==0] = np.nan\n",
    "\n",
    "        if binary_type == 'erode':\n",
    "            if np.sum(subimage2)<filtersize**2:\n",
    "                subimage_modif[indices[j,0],indices[j,1]] = 0\n",
    "        else:\n",
    "            if np.sum(subimage2)>0:\n",
    "                subimage_modif[indices[j,0],indices[j,1]] = 1\n",
    "    if np.sum(subimage2)<filtersize**2:\n",
    "        fig = plt.figure(figsize=(10,5))\n",
    "        ax= plt.subplot(1,2,1)\n",
    "        plt.imshow(subimage,cmap = 'gray')\n",
    "        if subimage[indices[j,0],indices[j,1]]==1:\n",
    "            plt.plot([indices[j,1]],[indices[j,0]],'bo')\n",
    "            #plt.imshow(filtered,alpha = 0.5, cmap = 'Blues',vmin = 0,vmax = 2.5)\n",
    "        plt.imshow(filtered,alpha = 0.5, cmap = 'Reds',vmin = 0,vmax = 2.5)\n",
    "        ax= plt.subplot(1,2,2)\n",
    "        plt.imshow(subimage_modif,cmap = 'gray')\n",
    "\n",
    "    else:\n",
    "        fig = plt.figure(figsize=(10,5))\n",
    "        ax= plt.subplot(1,2,1)\n",
    "        plt.imshow(subimage,cmap = 'gray')\n",
    "        plt.imshow(filtered,alpha = 0.5, cmap = 'Greens',vmin = 0,vmax = 2.5)\n",
    "        ax= plt.subplot(1,2,2)\n",
    "        plt.imshow(subimage_modif,cmap = 'gray')\n"
   ]
  },
  {
   "cell_type": "code",
   "execution_count": 21,
   "metadata": {},
   "outputs": [
    {
     "data": {
      "application/vnd.jupyter.widget-view+json": {
       "model_id": "87f7bc8e178c474387c4253a2b013c07",
       "version_major": 2,
       "version_minor": 0
      },
      "text/plain": [
       "interactive(children=(IntSlider(value=1, description='Window position', max=784, min=1), Select(description='b…"
      ]
     },
     "metadata": {},
     "output_type": "display_data"
    }
   ],
   "source": [
    "filtersize = ipw.IntSlider(min=3,max=6, value =3)\n",
    "xpos = ipw.IntSlider(min=1,max=(subimage.shape[0]-3)**2, value = 1,\n",
    "                                               description = 'Window position')\n",
    "def update(*args):\n",
    "    xpos.max = (subimage.shape[0]-filtersize.value+1)**2\n",
    "    xpos.value = np.min([xpos.max, xpos.value])\n",
    "filtersize.observe(update)\n",
    "\n",
    "ipw.interactive(def_erode, xpos = xpos,\n",
    "                binary_type = ipw.Select(options = ['erode','dilate'], value = 'erode'),\n",
    "                filtersize = filtersize,\n",
    "                threshold = ipw.IntSlider(min=0,max=255, value =3),\n",
    "               subimage = ipw.fixed(subimage))"
   ]
  },
  {
   "cell_type": "code",
   "execution_count": 1,
   "metadata": {},
   "outputs": [],
   "source": [
    "'''#movie of erosion\n",
    "X,Y = np.meshgrid(np.arange(subimage.shape[0]-3),np.arange(subimage.shape[1]-3))\n",
    "indices = np.stack((np.ravel(X),np.ravel(Y)),axis = 0).T\n",
    "subimage_modif = subimage.copy()\n",
    "for xpos in range(1,len(indices)):\n",
    "    for j in range(0,xpos):\n",
    "        subimage2 = subimage[indices[j,0]:indices[j,0]+4,indices[j,1]:indices[j,1]+4]\n",
    "        filtered = np.zeros(subimage.shape)\n",
    "        filtered[indices[j,0]:indices[j,0]+4,indices[j,1]:indices[j,1]+4] = 1\n",
    "        filtered[filtered ==0] = np.nan\n",
    "\n",
    "        if np.sum(subimage2)<16:\n",
    "            subimage_modif[indices[j,0],indices[j,1]] = 0\n",
    "    if np.sum(subimage2)<16:\n",
    "        fig = plt.figure(figsize=(10,5))\n",
    "        ax= plt.subplot(1,2,1)\n",
    "        plt.imshow(subimage,cmap = 'gray')\n",
    "        if subimage[indices[j,0],indices[j,1]]==1:\n",
    "            plt.plot([indices[j,1]],[indices[j,0]],'bo')\n",
    "            #plt.imshow(filtered,alpha = 0.5, cmap = 'Blues',vmin = 0,vmax = 2.5)\n",
    "        plt.imshow(filtered,alpha = 0.5, cmap = 'Reds',vmin = 0,vmax = 2.5)\n",
    "        ax= plt.subplot(1,2,2)\n",
    "        plt.imshow(subimage_modif,cmap = 'gray')\n",
    "        fig.tight_layout()\n",
    "        plt.show()\n",
    "    else:\n",
    "        fig = plt.figure(figsize=(10,5))\n",
    "        ax= plt.subplot(1,2,1)\n",
    "        plt.imshow(subimage,cmap = 'gray')\n",
    "        plt.imshow(filtered,alpha = 0.5, cmap = 'Greens',vmin = 0,vmax = 2.5)\n",
    "        ax= plt.subplot(1,2,2)\n",
    "        plt.imshow(subimage_modif,cmap = 'gray')\n",
    "        fig.tight_layout()\n",
    "        plt.show()\n",
    "    fig.savefig('binary/binary_'+str(xpos)+'.png')\n",
    "    clear_output()''';"
   ]
  },
  {
   "cell_type": "code",
   "execution_count": null,
   "metadata": {},
   "outputs": [],
   "source": []
  }
 ],
 "metadata": {
  "kernelspec": {
   "display_name": "Python 3",
   "language": "python",
   "name": "python3"
  },
  "language_info": {
   "codemirror_mode": {
    "name": "ipython",
    "version": 3
   },
   "file_extension": ".py",
   "mimetype": "text/x-python",
   "name": "python",
   "nbconvert_exporter": "python",
   "pygments_lexer": "ipython3",
   "version": "3.7.3"
  }
 },
 "nbformat": 4,
 "nbformat_minor": 4
}
