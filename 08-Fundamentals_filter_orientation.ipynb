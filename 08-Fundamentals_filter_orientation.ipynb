{
 "cells": [
  {
   "cell_type": "markdown",
   "metadata": {},
   "source": [
    "# Filter for orientation"
   ]
  },
  {
   "cell_type": "code",
   "execution_count": 85,
   "metadata": {},
   "outputs": [],
   "source": [
    "import matplotlib.pyplot as plt\n",
    "import numpy as np\n",
    "from scipy import ndimage as ndi\n",
    "from skimage.filters import gabor_kernel\n",
    "import ipywidgets as ipw\n",
    "import os\n",
    "import requests\n",
    "import skimage\n",
    "import urllib\n",
    "if not os.path.isfile('Samples/confocal2.tif'):\n",
    "    if not os.path.isdir('Samples'):\n",
    "        os.mkdir('Samples')\n",
    "    url = 'https://cildata.crbs.ucsd.edu/media/images/41694/41694.tif'\n",
    "    urllib.request.urlretrieve(url, 'Samples/confocal2.tif');\n",
    "    \n",
    "image = skimage.io.imread('Samples/confocal2.tif')\n"
   ]
  },
  {
   "cell_type": "code",
   "execution_count": 34,
   "metadata": {},
   "outputs": [],
   "source": [
    "sigma = 2\n",
    "theta = 1\n",
    "frequency = 0.2\n",
    "kernel = np.real(gabor_kernel(frequency, theta=theta, sigma_x=sigma, sigma_y=sigma))"
   ]
  },
  {
   "cell_type": "code",
   "execution_count": 70,
   "metadata": {},
   "outputs": [],
   "source": [
    "image_region = image[600:700,250:350,0].astype(float)"
   ]
  },
  {
   "cell_type": "code",
   "execution_count": 83,
   "metadata": {},
   "outputs": [],
   "source": [
    "def conv_angle(theta, image):\n",
    "    sigma = 2\n",
    "    #theta = 1\n",
    "    frequency = 0.2\n",
    "    kernel = np.real(gabor_kernel(frequency, theta=theta, sigma_x=sigma, sigma_y=sigma))\n",
    "    image_conv = ndi.convolve(image, np.real(kernel), mode='wrap')\n",
    "    fig = plt.figure(figsize=(15,10))\n",
    "    ax0 = plt.subplot(1,3,1)\n",
    "    ax0.imshow(image, cmap = 'gray')\n",
    "    ax1 = plt.subplot(1,3,2)\n",
    "    ax1.imshow(image_conv, cmap = 'gray')\n",
    "    ax2 = plt.subplot(1,3,3)\n",
    "    ax2.imshow(kernel, cmap = 'gray')\n",
    "    plt.show()"
   ]
  },
  {
   "cell_type": "code",
   "execution_count": 84,
   "metadata": {},
   "outputs": [
    {
     "data": {
      "application/vnd.jupyter.widget-view+json": {
       "model_id": "6f588dcb6b4b4fb590b79195e78cf461",
       "version_major": 2,
       "version_minor": 0
      },
      "text/plain": [
       "interactive(children=(FloatSlider(value=0.0, description='theta', max=3.0, step=0.2), Output()), _dom_classes=…"
      ]
     },
     "metadata": {},
     "output_type": "display_data"
    }
   ],
   "source": [
    "ipw.interactive(conv_angle,theta = ipw.FloatSlider(min =0, max = 3, step = 0.2),\n",
    "               image = ipw.fixed(image_region))"
   ]
  },
  {
   "cell_type": "code",
   "execution_count": 92,
   "metadata": {},
   "outputs": [],
   "source": [
    "'''sigma = 2\n",
    "theta = 0.6\n",
    "frequency = 0.2\n",
    "kernel = np.real(gabor_kernel(frequency, theta=theta, sigma_x=sigma, sigma_y=sigma))\n",
    "image_conv = ndi.convolve(image_region, np.real(kernel), mode='wrap')\n",
    "fig = plt.figure(figsize=(21,7))\n",
    "ax0 = plt.subplot(1,3,1)\n",
    "ax0.imshow(image_region, cmap = 'gray')\n",
    "ax1 = plt.subplot(1,3,2)\n",
    "ax1.imshow(image_conv, cmap = 'gray')\n",
    "ax2 = plt.subplot(1,3,3)\n",
    "ax2.imshow(kernel, cmap = 'gray')\n",
    "fig.tight_layout()\n",
    "plt.show()\n",
    "fig.savefig('course_images/gabor.png')''';"
   ]
  },
  {
   "cell_type": "code",
   "execution_count": 93,
   "metadata": {},
   "outputs": [],
   "source": [
    "'''fig = plt.figure(figsize=(21,7))\n",
    "ax0 = plt.subplot(1,1,1)\n",
    "ax0.imshow(image[:,:,0], cmap = 'gray')\n",
    "fig.tight_layout()\n",
    "plt.show()\n",
    "fig.savefig('course_images/gabor_fullimage.png')''';"
   ]
  },
  {
   "cell_type": "code",
   "execution_count": null,
   "metadata": {},
   "outputs": [],
   "source": []
  }
 ],
 "metadata": {
  "kernelspec": {
   "display_name": "Python 3",
   "language": "python",
   "name": "python3"
  },
  "language_info": {
   "codemirror_mode": {
    "name": "ipython",
    "version": 3
   },
   "file_extension": ".py",
   "mimetype": "text/x-python",
   "name": "python",
   "nbconvert_exporter": "python",
   "pygments_lexer": "ipython3",
   "version": "3.7.3"
  }
 },
 "nbformat": 4,
 "nbformat_minor": 2
}
